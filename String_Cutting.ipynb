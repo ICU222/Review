{
  "nbformat": 4,
  "nbformat_minor": 0,
  "metadata": {
    "colab": {
      "name": "String Cutting.ipynb",
      "provenance": [],
      "collapsed_sections": []
    },
    "kernelspec": {
      "name": "python3",
      "display_name": "Python 3"
    },
    "language_info": {
      "name": "python"
    }
  },
  "cells": [
    {
      "cell_type": "markdown",
      "source": [
        "# Q. parameter로 String이 들어올 때, 어떻게 파싱하는가?"
      ],
      "metadata": {
        "id": "BXV-2cqImZWl"
      }
    },
    {
      "cell_type": "markdown",
      "source": [
        "# 1. 문자열에서 인덱스 접근으로 값을 바꿀 수 없다. String type = immutable"
      ],
      "metadata": {
        "id": "nlUBRnnqiTzl"
      }
    },
    {
      "cell_type": "code",
      "execution_count": null,
      "metadata": {
        "colab": {
          "base_uri": "https://localhost:8080/",
          "height": 261
        },
        "id": "05uswnxJKyny",
        "outputId": "e943da24-3f0e-4316-d45b-6fe59334bdf1"
      },
      "outputs": [
        {
          "output_type": "stream",
          "name": "stdout",
          "text": [
            "h\n"
          ]
        },
        {
          "output_type": "error",
          "ename": "TypeError",
          "evalue": "ignored",
          "traceback": [
            "\u001b[0;31m---------------------------------------------------------------------------\u001b[0m",
            "\u001b[0;31mTypeError\u001b[0m                                 Traceback (most recent call last)",
            "\u001b[0;32m<ipython-input-23-d6a8e3e307b6>\u001b[0m in \u001b[0;36m<module>\u001b[0;34m()\u001b[0m\n\u001b[1;32m      3\u001b[0m \u001b[0mprint\u001b[0m\u001b[0;34m(\u001b[0m\u001b[0mtest\u001b[0m\u001b[0;34m[\u001b[0m\u001b[0;36m1\u001b[0m\u001b[0;34m]\u001b[0m\u001b[0;34m)\u001b[0m\u001b[0;34m\u001b[0m\u001b[0;34m\u001b[0m\u001b[0m\n\u001b[1;32m      4\u001b[0m \u001b[0;34m\u001b[0m\u001b[0m\n\u001b[0;32m----> 5\u001b[0;31m \u001b[0mtest\u001b[0m\u001b[0;34m[\u001b[0m\u001b[0;36m1\u001b[0m\u001b[0;34m]\u001b[0m \u001b[0;34m=\u001b[0m \u001b[0;34m'u'\u001b[0m\u001b[0;34m\u001b[0m\u001b[0;34m\u001b[0m\u001b[0m\n\u001b[0m\u001b[1;32m      6\u001b[0m \u001b[0;34m\u001b[0m\u001b[0m\n\u001b[1;32m      7\u001b[0m \u001b[0mprint\u001b[0m\u001b[0;34m(\u001b[0m\u001b[0mtest\u001b[0m\u001b[0;34m)\u001b[0m\u001b[0;34m\u001b[0m\u001b[0;34m\u001b[0m\u001b[0m\n",
            "\u001b[0;31mTypeError\u001b[0m: 'str' object does not support item assignment"
          ]
        }
      ],
      "source": [
        "test = 'ihaveadream'\n",
        "\n",
        "print(test[1])\n",
        "\n",
        "test[1] = 'u'\n",
        "\n",
        "print(test)"
      ]
    },
    {
      "cell_type": "markdown",
      "source": [
        "# 그렇다면 input String이 주어졌을 때, 어떻게 파싱을 할 수 있을까?\n",
        "# A. use functions"
      ],
      "metadata": {
        "id": "K822mOPuieV1"
      }
    },
    {
      "cell_type": "markdown",
      "source": [
        "# 1. string.split()\n",
        "#### .split(val) : val값을 기준으로 string을 쪼갠다. "
      ],
      "metadata": {
        "id": "hgy7FLinijo1"
      }
    },
    {
      "cell_type": "code",
      "source": [
        "test_str = \"Billie Jean\"\n",
        "test_str2 = \"aibicidieifigi\"\n",
        "test_str3 = \"aibicidieifig\"\n",
        "\n",
        "# return type is List\n",
        "result = test_str.split(\" \")\n",
        "print(result)\n",
        "\n",
        "# although it's not splitted, return type is List\n",
        "result2 = test_str2.split(\" \")\n",
        "print(result2)\n",
        "\n",
        "# check the diff between result4\n",
        "result3 = test_str2.split(\"i\")\n",
        "print(result3)\n",
        "\n",
        "result4 = test_str3.split(\"i\")\n",
        "print(result4)"
      ],
      "metadata": {
        "colab": {
          "base_uri": "https://localhost:8080/"
        },
        "id": "8Jx2khKiicwn",
        "outputId": "35495b1c-e80c-4116-f576-dd68997a1022"
      },
      "execution_count": null,
      "outputs": [
        {
          "output_type": "stream",
          "name": "stdout",
          "text": [
            "['Billie', 'Jean']\n",
            "['aibicidieifigi']\n",
            "['a', 'b', 'c', 'd', 'e', 'f', 'g', '']\n",
            "['a', 'b', 'c', 'd', 'e', 'f', 'g']\n"
          ]
        }
      ]
    },
    {
      "cell_type": "markdown",
      "source": [
        "# 2. string.lstrip()"
      ],
      "metadata": {
        "id": "9lerfBf6kFG2"
      }
    },
    {
      "cell_type": "markdown",
      "source": [
        "#### lstrip(val) : 왼쪽에서 오른쪽으로 val인 값을 만나면 삭제, val이 아닐 때 까지 연산 수행\n",
        "#### 만약 val이 두 개 이상의 문자일 경우, 그 문자들에 속하는 문자 삭제\n",
        "\n",
        "팁 : Strip : 조각"
      ],
      "metadata": {
        "id": "mCNk1STrlcMm"
      }
    },
    {
      "cell_type": "code",
      "source": [
        "test_str = \"aabbaabbaabb\"\n",
        "test_str2 = \"abbac\"\n",
        "\n",
        "# result type is string\n",
        "\n",
        "\n",
        "# 1. if val = 'a'\n",
        "result1 = test_str.lstrip(\"a\")\n",
        "print(result1)\n",
        "\n",
        "# 2. if val = 'c'\n",
        "result2 = test_str.lstrip(\"c\")\n",
        "print(result2)\n",
        "\n",
        "# 3. if val = \"ab\"   ------ IMPORTANT -------------\n",
        "result3 = test_str.lstrip(\"ab\")\n",
        "print(result3)\n",
        "\n",
        "# 4. if val = \"ab\".\n",
        "result4 = test_str2.lstrip(\"ab\")\n",
        "print(result4)"
      ],
      "metadata": {
        "colab": {
          "base_uri": "https://localhost:8080/"
        },
        "id": "GyvT6VgnkHTB",
        "outputId": "1bf7c6b3-fd6f-4f19-c247-5ac8414384f0"
      },
      "execution_count": null,
      "outputs": [
        {
          "output_type": "stream",
          "name": "stdout",
          "text": [
            "bbaabbaabb\n",
            "aabbaabbaabb\n",
            "\n",
            "c\n"
          ]
        }
      ]
    },
    {
      "cell_type": "markdown",
      "source": [
        "# 3. string.rstrip()"
      ],
      "metadata": {
        "id": "50MmSRHomUOt"
      }
    },
    {
      "cell_type": "markdown",
      "source": [
        "#### lstrip(val) : 오른쪽에서 완쪽으로 val인 값을 만나면 삭제, val이 아닐 때 까지 연산 수행\n",
        "#### 만약 val이 두 개 이상의 문자일 경우, 그 문자들에 속하는 문자 삭제"
      ],
      "metadata": {
        "id": "wlfNbVnqoRnA"
      }
    },
    {
      "cell_type": "code",
      "source": [
        "test_str = \"aabbaabbaabb\"\n",
        "test_str2 = \"abbac\"\n",
        "\n",
        "# result type is string\n",
        "\n",
        "\n",
        "# 1. if val = 'a'\n",
        "result1 = test_str.rstrip(\"a\")\n",
        "print(result1)\n",
        "\n",
        "# 2. if val = 'c'\n",
        "result2 = test_str.rstrip(\"c\")\n",
        "print(result2)\n",
        "\n",
        "# 3. if val = \"ab\"   ------ IMPORTANT -------------\n",
        "result3 = test_str.rstrip(\"ab\")\n",
        "print(result3)\n",
        "\n",
        "# 4. if val = \"ab\".\n",
        "result4 = test_str2.rstrip(\"ab\")\n",
        "print(result4)"
      ],
      "metadata": {
        "colab": {
          "base_uri": "https://localhost:8080/"
        },
        "id": "mpcK1vHEmT92",
        "outputId": "82f87abe-ca49-467b-9c0b-20f0bcc6ee39"
      },
      "execution_count": null,
      "outputs": [
        {
          "output_type": "stream",
          "name": "stdout",
          "text": [
            "aabbaabbaabb\n",
            "aabbaabbaabb\n",
            "\n",
            "abbac\n"
          ]
        }
      ]
    },
    {
      "cell_type": "markdown",
      "source": [
        "# 적용 : 주어진 스트링을 2중 list로 만들어라. "
      ],
      "metadata": {
        "id": "Ofz5gaLQohev"
      }
    },
    {
      "cell_type": "code",
      "source": [
        "string = '{{4,2,3},{3},{2,3,4,1},{2,3}}'  #  출처 : https://programmers.co.kr/learn/courses/30/lessons/64065"
      ],
      "metadata": {
        "id": "B5LIzxGqok6F"
      },
      "execution_count": null,
      "outputs": []
    },
    {
      "cell_type": "markdown",
      "source": [
        "### 우선 양 옆의 {{,}}을 다 잘라내야 된다. "
      ],
      "metadata": {
        "id": "SrKQiuE8ouVf"
      }
    },
    {
      "cell_type": "code",
      "source": [
        "string = string.lstrip(\"{\")\n",
        "string = string.rstrip(\"}\")\n",
        "\n",
        "print(string)"
      ],
      "metadata": {
        "colab": {
          "base_uri": "https://localhost:8080/"
        },
        "id": "gCakqfJKoslG",
        "outputId": "ebfacbc8-d061-47b4-e082-59c6e7c34b6d"
      },
      "execution_count": null,
      "outputs": [
        {
          "output_type": "stream",
          "name": "stdout",
          "text": [
            "4,2,3},{3},{2,3,4,1},{2,3\n"
          ]
        }
      ]
    },
    {
      "cell_type": "markdown",
      "source": [
        "### 그 뒤, },{ 를 기준으로 자른다. "
      ],
      "metadata": {
        "id": "fKCRmKhmpUwf"
      }
    },
    {
      "cell_type": "code",
      "source": [
        "str_list = string.split(\"},{\")\n",
        "print(str_list)"
      ],
      "metadata": {
        "colab": {
          "base_uri": "https://localhost:8080/"
        },
        "id": "oZs8RpsMpiBZ",
        "outputId": "9ae96d37-dc9e-4ff6-bb04-69b9d5f5d029"
      },
      "execution_count": null,
      "outputs": [
        {
          "output_type": "stream",
          "name": "stdout",
          "text": [
            "['4,2,3', '3', '2,3,4,1', '2,3']\n"
          ]
        }
      ]
    },
    {
      "cell_type": "markdown",
      "source": [
        "# 각 string에 접근하여 Map, list를 이용, 리스트로 만든다. "
      ],
      "metadata": {
        "id": "U2dV1fvcqGil"
      }
    },
    {
      "cell_type": "code",
      "source": [
        "answer = []\n",
        "\n",
        "for s in str_list:\n",
        "  # s.split(\",\") = '234' >> ['2','3','4']\n",
        "\n",
        "  tmp = list(map(int, s.split(\",\")))\n",
        "  answer.append(tmp)\n",
        "\n",
        "\n",
        "print(answer)"
      ],
      "metadata": {
        "colab": {
          "base_uri": "https://localhost:8080/"
        },
        "id": "fuDBpNz1qIKd",
        "outputId": "9e47f1ad-d5cf-4f3f-9b27-61d3922f7bb1"
      },
      "execution_count": null,
      "outputs": [
        {
          "output_type": "stream",
          "name": "stdout",
          "text": [
            "[[4, 2, 3], [3], [2, 3, 4, 1], [2, 3]]\n"
          ]
        }
      ]
    }
  ]
}