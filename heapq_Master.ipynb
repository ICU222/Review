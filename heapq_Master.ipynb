{
  "nbformat": 4,
  "nbformat_minor": 0,
  "metadata": {
    "colab": {
      "name": "heapq Master.ipynb",
      "provenance": [],
      "collapsed_sections": []
    },
    "kernelspec": {
      "name": "python3",
      "display_name": "Python 3"
    },
    "language_info": {
      "name": "python"
    }
  },
  "cells": [
    {
      "cell_type": "markdown",
      "source": [
        "# python library : heapq"
      ],
      "metadata": {
        "id": "adrV-fKaIbNq"
      }
    },
    {
      "cell_type": "markdown",
      "source": [
        "정말 기가 막힌 도구를 알아보자. 바로 heap이라는 녀석이다. "
      ],
      "metadata": {
        "id": "dJ8e6VMjIgdJ"
      }
    },
    {
      "cell_type": "markdown",
      "source": [
        "# heap"
      ],
      "metadata": {
        "id": "bwFVsxHuHK9K"
      }
    },
    {
      "cell_type": "code",
      "execution_count": null,
      "metadata": {
        "id": "uxNB3N0RHHtT"
      },
      "outputs": [],
      "source": [
        "import heapq"
      ]
    },
    {
      "cell_type": "markdown",
      "source": [
        "# push"
      ],
      "metadata": {
        "id": "jMYL-JCTHOhB"
      }
    },
    {
      "cell_type": "code",
      "source": [
        "q = []\n",
        "\n",
        "# heapq.heappush(q,key)\n",
        "heapq.heappush(q,(1,0))\n",
        "heapq.heappush(q,(1,-1))\n",
        "heapq.heappush(q,(1,2))\n",
        "heapq.heappush(q,(1,-4))\n",
        "heapq.heappush(q,(2,0))\n",
        "heapq.heappush(q,(3,1))\n",
        "heapq.heappush(q,(3,0))"
      ],
      "metadata": {
        "id": "Kl4hNbMVHQEr"
      },
      "execution_count": null,
      "outputs": []
    },
    {
      "cell_type": "markdown",
      "source": [
        "# pop"
      ],
      "metadata": {
        "id": "4UiNA4POHm2p"
      }
    },
    {
      "cell_type": "code",
      "source": [
        "while q:\n",
        "  print(heapq.heappop(q))\n"
      ],
      "metadata": {
        "colab": {
          "base_uri": "https://localhost:8080/"
        },
        "id": "VpdWnUMpHngs",
        "outputId": "82639673-8032-47f6-8691-e676543f97f6"
      },
      "execution_count": null,
      "outputs": [
        {
          "output_type": "stream",
          "name": "stdout",
          "text": [
            "(1, -4)\n",
            "(1, -1)\n",
            "(1, 0)\n",
            "(1, 2)\n",
            "(2, 0)\n",
            "(3, 0)\n",
            "(3, 1)\n"
          ]
        }
      ]
    },
    {
      "cell_type": "markdown",
      "source": [
        "# test"
      ],
      "metadata": {
        "id": "u9x60e_3H6jL"
      }
    },
    {
      "cell_type": "code",
      "source": [
        "q = []\n",
        "\n",
        "# heapq.heappush(q,key)\n",
        "heapq.heappush(q,[1,0])\n",
        "heapq.heappush(q,[1,-1])\n",
        "heapq.heappush(q,[1,2])\n",
        "heapq.heappush(q,[1,-4])\n",
        "heapq.heappush(q,[2,0])\n",
        "heapq.heappush(q,[3,1])\n",
        "heapq.heappush(q,[3,0])"
      ],
      "metadata": {
        "id": "nVcahiGEHrta"
      },
      "execution_count": null,
      "outputs": []
    },
    {
      "cell_type": "code",
      "source": [
        "while q:\n",
        "  print(heapq.heappop(q))"
      ],
      "metadata": {
        "colab": {
          "base_uri": "https://localhost:8080/"
        },
        "id": "slfp_ElbIGMZ",
        "outputId": "228c43de-3ce0-4161-bc7d-05ec9ecf1c7a"
      },
      "execution_count": null,
      "outputs": [
        {
          "output_type": "stream",
          "name": "stdout",
          "text": [
            "[1, -4]\n",
            "[1, -1]\n",
            "[1, 0]\n",
            "[1, 2]\n",
            "[2, 0]\n",
            "[3, 0]\n",
            "[3, 1]\n"
          ]
        }
      ]
    },
    {
      "cell_type": "markdown",
      "source": [
        "# test2"
      ],
      "metadata": {
        "id": "Kddhq2-LIJV5"
      }
    },
    {
      "cell_type": "code",
      "source": [
        "q = []\n",
        "\n",
        "# heapq.heappush(q,key)\n",
        "heapq.heappush(q,[1,0,1])\n",
        "heapq.heappush(q,[1,0,2])\n",
        "heapq.heappush(q,[1,2,1])\n",
        "heapq.heappush(q,[1,-4,1])\n",
        "heapq.heappush(q,[2,0,5])\n",
        "heapq.heappush(q,[3,1,5])\n",
        "heapq.heappush(q,[3,0,3])"
      ],
      "metadata": {
        "id": "F0WzTP6nIKFK"
      },
      "execution_count": null,
      "outputs": []
    },
    {
      "cell_type": "code",
      "source": [
        "while q:\n",
        "  print(heapq.heappop(q))"
      ],
      "metadata": {
        "colab": {
          "base_uri": "https://localhost:8080/"
        },
        "id": "Lu65YYgEIOxR",
        "outputId": "e540a722-80c8-4c66-b23f-5b6cb2bd5bcc"
      },
      "execution_count": null,
      "outputs": [
        {
          "output_type": "stream",
          "name": "stdout",
          "text": [
            "[1, -4, 1]\n",
            "[1, 0, 1]\n",
            "[1, 0, 2]\n",
            "[1, 2, 1]\n",
            "[2, 0, 5]\n",
            "[3, 0, 3]\n",
            "[3, 1, 5]\n"
          ]
        }
      ]
    },
    {
      "cell_type": "markdown",
      "source": [
        "# 적용 : "
      ],
      "metadata": {
        "id": "V489tbIbsKxV"
      }
    },
    {
      "cell_type": "code",
      "source": [
        "def solution(id_list, report, k):\n",
        "    answer = []\n",
        "    reporter_list = {}\n",
        "    reported_list = {}\n",
        "    count = []\n",
        "    banned = []\n",
        "    \n",
        "    # 이건 딕셔너리를 사용하였다. \n",
        "    for ide in id_list:\n",
        "        print(\"test\")\n",
        "        reporter_list[ide] = []\n",
        "        reported_list[ide] = []\n",
        "    \n",
        "    for st in report:\n",
        "        er, ed = st.split(\" \")\n",
        "        \n",
        "        if ed not in reporter_list[er]:\n",
        "            reporter_list[er].append(ed)\n",
        "            reported_list[ed].append(er)\n",
        "    \n",
        "    # 들어온 순서대로 딕션이 유지되나? ㅇㅇ\n",
        "    for reported in reported_list:\n",
        "        counted = len(reported)\n",
        "        count.append(counted)\n",
        "    \n",
        "    # find banned ids\n",
        "    for i in range(len(id_list)):\n",
        "        if count[i] >= k:\n",
        "            banned.append(id_list[i])\n",
        "    \n",
        "    # based on banned ids, send mail\n",
        "    for i in range(len(id_list)):\n",
        "        res = 0\n",
        "        lis = reported_list[id_list[i]]\n",
        "        for j in lis:\n",
        "            if j in banned:\n",
        "                res += 1\n",
        "        answer.append(res)\n",
        "        \n",
        "            \n",
        "\n",
        "    \n",
        "    return answer"
      ],
      "metadata": {
        "id": "-o2caV3FRsE2"
      },
      "execution_count": null,
      "outputs": []
    },
    {
      "cell_type": "code",
      "source": [
        "lid = [\"muzi\", \"frodo\", \"apeach\", \"neo\"]\n",
        "b = [\"muzi frodo\",\"apeach frodo\",\"frodo neo\",\"muzi neo\",\"apeach muzi\"]\n",
        "k = 2\n",
        "solution(lid, b, k)\n"
      ],
      "metadata": {
        "id": "z37NX8k3RuwN",
        "colab": {
          "base_uri": "https://localhost:8080/"
        },
        "outputId": "2f8bccdb-b210-4fc0-d181-93ce820d2b7a"
      },
      "execution_count": null,
      "outputs": [
        {
          "output_type": "stream",
          "name": "stdout",
          "text": [
            "test\n",
            "test\n",
            "test\n",
            "test\n"
          ]
        },
        {
          "output_type": "execute_result",
          "data": {
            "text/plain": [
              "[1, 2, 0, 2]"
            ]
          },
          "metadata": {},
          "execution_count": 4
        }
      ]
    }
  ]
}