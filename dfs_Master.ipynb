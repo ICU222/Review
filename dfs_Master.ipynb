{
  "nbformat": 4,
  "nbformat_minor": 0,
  "metadata": {
    "colab": {
      "name": "dfs Master.ipynb",
      "provenance": [],
      "collapsed_sections": []
    },
    "kernelspec": {
      "name": "python3",
      "display_name": "Python 3"
    },
    "language_info": {
      "name": "python"
    }
  },
  "cells": [
    {
      "cell_type": "markdown",
      "source": [
        "# 자세 : 문제에서 matrix가 정점으로 이루어진 그래프를 나타낸 것 인지, 그냥 좌표로 이루어진 길을 나타낸 것 인지 확인을 하고 접근해야 된다."
      ],
      "metadata": {
        "id": "jVpZIkG3xA4g"
      }
    },
    {
      "cell_type": "markdown",
      "source": [
        "# 1. classic DFS : 인접 리스트가 주어졌을 때 (그래프) 모든 노드를 탐색"
      ],
      "metadata": {
        "id": "5MUYLO0WywNv"
      }
    },
    {
      "cell_type": "code",
      "execution_count": null,
      "metadata": {
        "colab": {
          "base_uri": "https://localhost:8080/"
        },
        "id": "ximf3TFgypPC",
        "outputId": "f568f6ad-58b7-4a34-d563-d42c408c55c7"
      },
      "outputs": [
        {
          "output_type": "stream",
          "name": "stdout",
          "text": [
            "1 2 7 6 8 3 4 5 "
          ]
        }
      ],
      "source": [
        "# graph : adjacent list\n",
        "# v : integer\n",
        "# visited : list, store True or False\n",
        "\n",
        "# Graph의 정점을 기준으로, 정점과 연결된 노드들이 리스트로 제공되므로\n",
        "# 이 리스트에 반복적으로 접근하여 경로 탐색\n",
        "\n",
        "graph = [\n",
        "         [],\n",
        "         [2,3,8],\n",
        "         [1,7],\n",
        "         [1,4,5],\n",
        "         [3,5],\n",
        "         [3,4],\n",
        "         [7],\n",
        "         [2,6,8],\n",
        "         [1,7]\n",
        "]\n",
        "\n",
        "visited = [False for _ in range(9)]\n",
        "\n",
        "def dfs(graph, v, visited):\n",
        "  visited[v] = True\n",
        "\n",
        "  print(v, end=' ')\n",
        "\n",
        "  for i in graph[v]:\n",
        "    if not visited[i]:\n",
        "      dfs(graph, i, visited)\n",
        "\n",
        "\n",
        "dfs(graph, 1, visited)\n",
        "\n"
      ]
    },
    {
      "cell_type": "markdown",
      "source": [
        "# 2. DFS : 행렬이 주어지고, 모든 최단 경로를 찾아야 할 때 : 주로 사용"
      ],
      "metadata": {
        "id": "J6Y5twiV5RQx"
      }
    },
    {
      "cell_type": "code",
      "source": [
        "# 그냥 외워\n",
        "# 재귀 함수와 스택, 둘을 머릿속으로 그려봐라.\n",
        "\n",
        "mat = [ \n",
        "       [1,1,1,1,1,1,1],\n",
        "       [1,0,0,1,0,0,1],\n",
        "       [1,0,1,1,0,0,1],\n",
        "       [1,1,1,1,1,1,1]\n",
        "]\n",
        "\n",
        "stack = []\n",
        "\n",
        "answer = []\n",
        "\n",
        "def dfs(mat, x, y, endx, endy):\n",
        "  # make current location visited\n",
        "  global stack\n",
        "  stack.append((x,y))\n",
        "  mat[x][y] = 0\n",
        "\n",
        "  if x == endx and y == endy:\n",
        "    mat[x][y] = 1\n",
        "    global answer\n",
        "    tmp_answer = []\n",
        "    for i in stack:\n",
        "      tmp_answer.append(i)\n",
        "    answer.append(tmp_answer)\n",
        "    stack.pop()\n",
        "    return\n",
        "\n",
        "  # 이게 핵심이다. 방향을 임의로 정해줘야 한다. \n",
        "  dx = [0,1]\n",
        "  dy = [1,0]\n",
        "\n",
        "  for i in range(2):\n",
        "    mx = x + dx[i]\n",
        "    my = y + dy[i]\n",
        "\n",
        "    if mx <= endx and my <= endy:\n",
        "      if mat[mx][my] == 1:\n",
        "        dfs(mat, mx, my, endx, endy)\n",
        "  \n",
        "  # 지나간 길을 다시 가지 않은 길로 되돌림\n",
        "  mat[x][y] = 1\n",
        "  stack.pop()\n",
        "\n",
        "\n",
        "dfs(mat, 0,0,3,6)\n",
        "\n",
        "for path_list in answer:\n",
        "  print(path_list)"
      ],
      "metadata": {
        "id": "7NzgWep3YIsw",
        "colab": {
          "base_uri": "https://localhost:8080/"
        },
        "outputId": "ed40c9ac-9564-425d-b583-96dbc51175a6"
      },
      "execution_count": 4,
      "outputs": [
        {
          "output_type": "stream",
          "name": "stdout",
          "text": [
            "[(0, 0), (0, 1), (0, 2), (0, 3), (0, 4), (0, 5), (0, 6), (1, 6), (2, 6), (3, 6)]\n",
            "[(0, 0), (0, 1), (0, 2), (0, 3), (1, 3), (2, 3), (3, 3), (3, 4), (3, 5), (3, 6)]\n",
            "[(0, 0), (1, 0), (2, 0), (3, 0), (3, 1), (3, 2), (3, 3), (3, 4), (3, 5), (3, 6)]\n"
          ]
        }
      ]
    },
    {
      "cell_type": "markdown",
      "source": [
        "# 3 DFS : 그래프가 인접 행렬로 주어진 경우"
      ],
      "metadata": {
        "id": "7n18TJFtYGn4"
      }
    },
    {
      "cell_type": "code",
      "source": [
        "# 사실 보면 인접 리스트와 크게 다를 것은 없다.\n",
        "# 그냥 연결된 노드의 표현이 다른 것일 뿐.\n",
        "# 따라서 연결된 노드를 찾을 때의 접근도 약간 다르다. \n",
        "# 방향이 정해져 있다. 그냥 row를 그대로 읽는거다. \n",
        "\n",
        "mat = [ \n",
        "    [0,0,1,0,0,0],\n",
        "    [0,0,1,0,0,1],\n",
        "    [1,1,0,1,0,0],\n",
        "    [0,0,1,0,1,1],\n",
        "    [0,0,0,1,0,0],\n",
        "    [0,1,0,1,0,0]\n",
        "]\n",
        "\n",
        "stack = []\n",
        "\n",
        "# programmers같은 곳에서는 이렇게 먼저 선언 못함. 주의\n",
        "visited = [False for _ in range(6) ]\n",
        "\n",
        "answer = []\n",
        "\n",
        "# 보면 애초에 2번이랑 파라미터가 다르다.\n",
        "def dfs(mat, current, end):\n",
        "  # make current location visited\n",
        "  global stack\n",
        "  stack.append(current)\n",
        "\n",
        " # print(current)\n",
        "  visited[current] = True\n",
        "\n",
        "  if current == end:\n",
        "    global answer\n",
        "\n",
        "\n",
        "    tmp_answer = []\n",
        "    visited[end] = False\n",
        "\n",
        "    for i in stack:\n",
        "      tmp_answer.append(i)\n",
        "\n",
        "\n",
        "    answer.append(tmp_answer)\n",
        "    stack.pop()\n",
        "    return\n",
        "\n",
        "  \n",
        "  # 이게 핵심이다. mat[current]에 이미 연결 된 노드들이 있다. \n",
        "  # len(mat[current]) = node 개수\n",
        "  for i in range(len(mat[current])):\n",
        "     \n",
        "      if mat[current][i] == 1:\n",
        "        if visited[i] == False: \n",
        "          dfs(mat, i, end)\n",
        "\n",
        "  visited[current] = False\n",
        "  stack.pop()\n",
        "\n",
        "dfs(mat, 0,5)\n",
        "\n",
        "for path_list in answer:\n",
        "  print(path_list)"
      ],
      "metadata": {
        "colab": {
          "base_uri": "https://localhost:8080/"
        },
        "id": "VUNV2ge55Uu1",
        "outputId": "88fd6501-79b5-4a19-d623-47c921f6a6ec"
      },
      "execution_count": 17,
      "outputs": [
        {
          "output_type": "stream",
          "name": "stdout",
          "text": [
            "[0, 2, 1, 5]\n",
            "[0, 2, 3, 5]\n"
          ]
        }
      ]
    }
  ]
}