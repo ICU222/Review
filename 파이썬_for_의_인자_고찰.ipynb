{
  "nbformat": 4,
  "nbformat_minor": 0,
  "metadata": {
    "colab": {
      "name": "파이썬 for 의 인자 고찰.ipynb",
      "provenance": [],
      "collapsed_sections": []
    },
    "kernelspec": {
      "name": "python3",
      "display_name": "Python 3"
    },
    "language_info": {
      "name": "python"
    }
  },
  "cells": [
    {
      "cell_type": "markdown",
      "metadata": {
        "id": "gKGstf4hovJv"
      },
      "source": [
        "# 사건의 전말  \n",
        " 어느 날, 파이썬을 공부하고 있는 친구에게서 카톡이 왔다.   \n",
        " 그 친구가 처한 문제는 다음과 같았다.   "
      ]
    },
    {
      "cell_type": "markdown",
      "metadata": {
        "id": "cuRDtogeo6A2"
      },
      "source": [
        "#### 1. csv파일(data)을 열어서 문자열로 표현 된 값을 실수 형 값으로 바꾸고 싶어.  \n",
        "#### 2. csv는 [ 년도, 값1, 값2, 값3, 값4 ] 가 저장되어 있어.  \n",
        "#### 3. 그래서 for row in data : 를 이용하여 row[1]의 값인 값1을 실수 형으로 바꾼 후,  \n",
        "#### 4. for i in row[2:] : 를 이용하여 row[2:4]에 저장 된 값을 실수 형으로 바꿨어.  \n",
        "#### 5. 그러고 이제 각 row를 출력했는데, 4번이 제대로 돌아가지 않았어. 그대로 문자열로 표현 된 값이 출력되었어.  \n"
      ]
    },
    {
      "cell_type": "markdown",
      "metadata": {
        "id": "6Cx63XVOrGZh"
      },
      "source": [
        "# "
      ]
    },
    {
      "cell_type": "markdown",
      "metadata": {
        "id": "jMGFm4Y-rGlv"
      },
      "source": [
        "보내준 코드는 다음과 같았다. "
      ]
    },
    {
      "cell_type": "code",
      "metadata": {
        "id": "-5E1AW2JruaW"
      },
      "source": [
        "import matplotlib.pyplot as csv\n",
        "import csv\n",
        "\n",
        "f=open(\"/content/drive/MyDrive/seoul.csv\", encoding='cp949')\n",
        "# 에러 방지를 위해 encoding='cp949'사용\n",
        "\n",
        "data=csv.reader(f)\n",
        "next(data)\n",
        "\n",
        "for row in data:\n",
        "    row[1]=float(row[1])  # row[1]값을 실수 형으로 변경\n",
        "    for i in row[2:]:\n",
        "      i = float(i)        # row[2:4]의 값을 실수 형으로 변경\n",
        "    print(row)            # 변경 된 값 확인을 위해 출력\n",
        "  "
      ],
      "execution_count": null,
      "outputs": []
    },
    {
      "cell_type": "markdown",
      "metadata": {
        "id": "e-9AcEIHrvLt"
      },
      "source": [
        "##코드 실행 결과"
      ]
    },
    {
      "cell_type": "markdown",
      "metadata": {
        "id": "zdT8v39Lrzg-"
      },
      "source": [
        "![ex screenshot](./image/w.jpg)  \n",
        "색칠 한 부분을 보면 실수 형으로 저장이 안 되어 있음을 알 수 있다. "
      ]
    },
    {
      "cell_type": "markdown",
      "metadata": {
        "id": "uqsOezBmwqMN"
      },
      "source": [
        "### 일단, 저 for문을 바꾸면 매우 간단한 코드로 값을 바꿀 수 있다는 것은 알고 있다.   \n",
        "### 그런데, 저 for문을 그대로 두고 원하는 작업을 해 보고 싶었다.  "
      ]
    },
    {
      "cell_type": "markdown",
      "metadata": {
        "id": "la7WdmkkvQ_F"
      },
      "source": [
        "# 그래서 뭐가 문제야?  \n",
        "\n",
        " 처음 코드를 봤을 때는 문제가 없다고 생각했었다.   \n",
        " 왜? 내 논리는 다음과 같았다. "
      ]
    },
    {
      "cell_type": "markdown",
      "metadata": {
        "id": "yW6b8o2xvZ4t"
      },
      "source": [
        "####1. for i in row[2:]:에서 i는 row[k]이다.   ( 여기서 k는 2 to 4 )\n",
        "####2. 따라서 i = float(i) 을 하면 row[k]의 값에 실수 형 값이 저장 될 것이다.   "
      ]
    },
    {
      "cell_type": "markdown",
      "metadata": {
        "id": "krFKH1Iqvz42"
      },
      "source": [
        "## 하지만,  \n",
        "나와 내 친구의 생각이 옳다면, 코드도 당연히 옳아야 한다.   \n",
        "하지만, 그렇지 않았다. 그래서 나도 다른 친구에게 도움을 받기로 하였다. "
      ]
    },
    {
      "cell_type": "markdown",
      "metadata": {
        "id": "Z93m8mxJwRR9"
      },
      "source": [
        "#"
      ]
    },
    {
      "cell_type": "markdown",
      "metadata": {
        "id": "w-sp6QJOwTWt"
      },
      "source": [
        "# 문제의 원인  \n",
        "### for i in row[2:]:에서, i는 row[k]를 reference하는 것이 아닌,  \n",
        "값을 copy하는 것이었다!!  \n",
        "\n",
        "###따라서, i = float(i)를 해도 row의 인자에는 아무런 영향이 없던 것이었다.   \n",
        "  \n",
        "###row[1]의 값은 row[1] = 의 문장을 통해 값이 바뀌었기 때문에 이 자리만 값이 실수가 된 것이다.   \n",
        "다음 문제를 통해 이것이 무슨 소린지 알아보자. "
      ]
    },
    {
      "cell_type": "code",
      "metadata": {
        "colab": {
          "base_uri": "https://localhost:8080/"
        },
        "id": "FgjM8c01xs9l",
        "outputId": "3d2a6b47-0a44-4807-d07e-77ea69090f9f"
      },
      "source": [
        "a = [1, 2]\n",
        "for value in a:\n",
        "    value += 3\n",
        "print(a)\n",
        "\n",
        "# 코드 실행 전 : 출력이 어떻게 될까?\n",
        "# i)  [1, 2]\n",
        "# ii) [4, 5]"
      ],
      "execution_count": 3,
      "outputs": [
        {
          "output_type": "stream",
          "text": [
            "[1, 2]\n"
          ],
          "name": "stdout"
        }
      ]
    },
    {
      "cell_type": "markdown",
      "metadata": {
        "id": "EnF8RqBrx_J1"
      },
      "source": [
        "### 즉, value는 a의 값을 copy 해 온 것이지, reference한 것이 아니었다.   \n",
        "### 생각해보니 백준 알고리즘 문제에서도 이러한 방식으로 리스트를 사용했는데, 위의 방법처럼 리스트에 접근하는 방법은 아예 쓰지 않았다. "
      ]
    },
    {
      "cell_type": "markdown",
      "metadata": {
        "id": "b4uIdzJny-U9"
      },
      "source": [
        "# 정리  \n",
        "### 팁 : C언어처럼 생각하지 말자.   \n"
      ]
    },
    {
      "cell_type": "markdown",
      "metadata": {
        "id": "9JSXsHYUzDD9"
      },
      "source": [
        "# C의 전통적인 for loop :\n",
        "for i in range(len(array)):  \n",
        "    array[i] = 12    \n",
        "# Python의 for loop:  \n",
        "for v in array:  \n",
        "    //v is a __copy__ of element of array  \n",
        "    print(v)\n"
      ]
    },
    {
      "cell_type": "markdown",
      "metadata": {
        "id": "HJ79Ed-zzure"
      },
      "source": [
        "## 추가 정보  \n",
        " - Java의 for each도 이와 마찬가지로 copy이다.   \n",
        " - 또한 Java의 for은 스트림을 이용한다나 뭐라나.....\n",
        " - https://futurecreator.github.io/2018/08/26/java-8-streams/   \n",
        " "
      ]
    },
    {
      "cell_type": "markdown",
      "metadata": {
        "id": "p1emwbPV0Klv"
      },
      "source": [
        "# 마무리  \n",
        " - 파이썬 공식 사이트에서 파이썬에 대한 자세한 이해가 필요 >> 정리 필수  \n",
        " - https://docs.python.org/3/  \n",
        "# Thanks to  \n",
        "- Okhee  \n",
        "- Gitong"
      ]
    }
  ]
}